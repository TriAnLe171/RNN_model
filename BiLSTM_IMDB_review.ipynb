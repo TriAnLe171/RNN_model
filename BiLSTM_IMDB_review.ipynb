{
 "cells": [
  {
   "cell_type": "code",
   "execution_count": 12,
   "metadata": {},
   "outputs": [],
   "source": [
    "import numpy as np\n",
    "from keras.models import Sequential\n",
    "from keras.preprocessing import sequence, text\n",
    "from keras.layers import Dropout\n",
    "from keras.layers import Dense, Embedding, LSTM, Bidirectional\n",
    "import tensorflow as tf"
   ]
  },
  {
   "cell_type": "code",
   "execution_count": 13,
   "metadata": {},
   "outputs": [],
   "source": [
    "from keras.datasets import imdb\n",
    "\n",
    "num_words = 10000\n",
    "(x_train,y_train),(x_test,y_test)=imdb.load_data(num_words=num_words)"
   ]
  },
  {
   "cell_type": "code",
   "execution_count": 14,
   "metadata": {},
   "outputs": [],
   "source": [
    "#convert the text data to numerical form \n",
    "#make the lengths of the texts equal by padding. If a sentence is having a length greater than 200 \n",
    "#it will be trimmed off otherwise it will be padded by 0.\n",
    "\n",
    "max_len =200\n",
    "x_train= sequence.pad_sequences(x_train, maxlen=max_len)\n",
    "x_test=sequence.pad_sequences(x_test, maxlen=max_len)\n",
    "y_test=np.array(y_test)\n",
    "y_train=np.array(y_train) \n"
   ]
  },
  {
   "cell_type": "code",
   "execution_count": 15,
   "metadata": {},
   "outputs": [
    {
     "name": "stdout",
     "output_type": "stream",
     "text": [
      "Model: \"sequential_1\"\n",
      "_________________________________________________________________\n",
      " Layer (type)                Output Shape              Param #   \n",
      "=================================================================\n",
      " embedding_1 (Embedding)     (None, 200, 128)          1280000   \n",
      "                                                                 \n",
      " lstm_1 (LSTM)               (None, 64)                49408     \n",
      "                                                                 \n",
      " dropout_2 (Dropout)         (None, 64)                0         \n",
      "                                                                 \n",
      " dense_2 (Dense)             (None, 16)                1040      \n",
      "                                                                 \n",
      " dropout_3 (Dropout)         (None, 16)                0         \n",
      "                                                                 \n",
      " dense_3 (Dense)             (None, 1)                 17        \n",
      "                                                                 \n",
      "=================================================================\n",
      "Total params: 1330465 (5.08 MB)\n",
      "Trainable params: 1330465 (5.08 MB)\n",
      "Non-trainable params: 0 (0.00 Byte)\n",
      "_________________________________________________________________\n"
     ]
    }
   ],
   "source": [
    "from keras import Sequential\n",
    "from keras.layers import Embedding, LSTM, Dense, Dropout\n",
    "\n",
    "embedding_size=128\n",
    "model=Sequential()\n",
    "model.add(Embedding(num_words, embedding_size,input_length=max_len))\n",
    "model.add(LSTM(64))\n",
    "model.add(Dropout(0.5))\n",
    "model.add(Dense(16,activation='relu'))\n",
    "model.add(Dropout(0.3))\n",
    "model.add(Dense(1, activation='sigmoid'))\n",
    "\n",
    "model.summary()"
   ]
  },
  {
   "cell_type": "code",
   "execution_count": 16,
   "metadata": {},
   "outputs": [],
   "source": [
    "model.compile(loss='binary_crossentropy', \n",
    "             optimizer='adam', \n",
    "             metrics=['accuracy'])"
   ]
  },
  {
   "cell_type": "code",
   "execution_count": 17,
   "metadata": {},
   "outputs": [
    {
     "name": "stdout",
     "output_type": "stream",
     "text": [
      "Epoch 1/4\n"
     ]
    },
    {
     "name": "stderr",
     "output_type": "stream",
     "text": [
      "2024-10-18 23:49:24.656848: I tensorflow/core/grappler/optimizers/custom_graph_optimizer_registry.cc:114] Plugin optimizer for device_type GPU is enabled.\n",
      "2024-10-18 23:49:24.882661: I tensorflow/core/grappler/optimizers/custom_graph_optimizer_registry.cc:114] Plugin optimizer for device_type GPU is enabled.\n"
     ]
    },
    {
     "name": "stdout",
     "output_type": "stream",
     "text": [
      "  1/274 [..............................] - ETA: 5:49 - loss: 0.6936 - accuracy: 0.5000"
     ]
    },
    {
     "name": "stderr",
     "output_type": "stream",
     "text": [
      "2024-10-18 23:49:25.140495: I tensorflow/core/grappler/optimizers/custom_graph_optimizer_registry.cc:114] Plugin optimizer for device_type GPU is enabled.\n"
     ]
    },
    {
     "name": "stdout",
     "output_type": "stream",
     "text": [
      "274/274 [==============================] - ETA: 0s - loss: 0.4836 - accuracy: 0.7591"
     ]
    },
    {
     "name": "stderr",
     "output_type": "stream",
     "text": [
      "2024-10-18 23:49:37.715415: I tensorflow/core/grappler/optimizers/custom_graph_optimizer_registry.cc:114] Plugin optimizer for device_type GPU is enabled.\n",
      "2024-10-18 23:49:37.795277: I tensorflow/core/grappler/optimizers/custom_graph_optimizer_registry.cc:114] Plugin optimizer for device_type GPU is enabled.\n"
     ]
    },
    {
     "name": "stdout",
     "output_type": "stream",
     "text": [
      "274/274 [==============================] - 15s 52ms/step - loss: 0.4836 - accuracy: 0.7591 - val_loss: 0.3378 - val_accuracy: 0.8572\n",
      "Epoch 2/4\n",
      "274/274 [==============================] - 12s 45ms/step - loss: 0.2435 - accuracy: 0.9065 - val_loss: 0.3187 - val_accuracy: 0.8627\n",
      "Epoch 3/4\n",
      "274/274 [==============================] - 11s 41ms/step - loss: 0.1671 - accuracy: 0.9398 - val_loss: 0.3378 - val_accuracy: 0.8709\n",
      "Epoch 4/4\n",
      "274/274 [==============================] - 12s 43ms/step - loss: 0.1353 - accuracy: 0.9521 - val_loss: 0.4174 - val_accuracy: 0.8459\n"
     ]
    }
   ],
   "source": [
    "batch_size=64\n",
    "epochs=4\n",
    "\n",
    "model_RNN=model.fit(x_train,y_train,\n",
    "          validation_split=0.3,\n",
    "          batch_size=batch_size,\n",
    "          epochs=epochs\n",
    "          )"
   ]
  },
  {
   "cell_type": "code",
   "execution_count": 18,
   "metadata": {},
   "outputs": [
    {
     "data": {
      "image/png": "[encoded data removed]",
      "text/plain": [
       "<Figure size 640x480 with 1 Axes>"
      ]
     },
     "metadata": {},
     "output_type": "display_data"
    }
   ],
   "source": [
    "from matplotlib import pyplot\n",
    "\n",
    "pyplot.plot(model_RNN.history['loss'])\n",
    "pyplot.plot(model_RNN.history['accuracy'])\n",
    "pyplot.title('model loss vs accuracy')\n",
    "pyplot.xlabel('epoch')\n",
    "pyplot.legend(['loss', 'accuracy'], loc='upper right')\n",
    "pyplot.show()"
   ]
  },
  {
   "cell_type": "code",
   "execution_count": 19,
   "metadata": {},
   "outputs": [
    {
     "name": "stdout",
     "output_type": "stream",
     "text": [
      "782/782 [==============================] - 10s 13ms/step - loss: 0.4324 - accuracy: 0.8423\n",
      "Test loss: 0.43235448002815247,Test accuracy= 0.8423200249671936\n"
     ]
    }
   ],
   "source": [
    "loss, acc = model.evaluate(x_test,y_test)\n",
    "print(f'Test loss: {loss},Test accuracy= {acc}')"
   ]
  },
  {
   "cell_type": "code",
   "execution_count": 20,
   "metadata": {},
   "outputs": [
    {
     "name": "stdout",
     "output_type": "stream",
     "text": [
      "Review Text: everyone's horror the  promptly eats the mayor and then goes on a merry rampage  citizens at random a title card  reads news of the king's  throughout the kingdom when the now terrified  once more   for help he loses his temper and  their community with lightning  the moral of our story delivered by a hapless frog just before he is eaten is let well enough alone br br considering the time period when this startling little film was made and considering the fact that it was made by a russian  at the height of that  country's civil war it would be easy to see this as a  about those events  may or may not have had  turmoil in mind when he made  but whatever  his choice of material the film stands as a  tale of universal   could be the soviet union italy germany or japan in the 1930s or any country of any era that lets its guard down and is overwhelmed by  it's a fascinating film even a charming one in its macabre way but its message is no joke\n"
     ]
    }
   ],
   "source": [
    "from keras.datasets import imdb\n",
    "from keras.preprocessing.text import Tokenizer\n",
    "\n",
    "# Load the IMDb dataset\n",
    "word_index = imdb.get_word_index()  # Get the word index mapping\n",
    "\n",
    "# Reverse the word index mapping: key -> words, index -> value\n",
    "reverse_word_index = {index: word for word, index in word_index.items()}\n",
    "\n",
    "# Decode a sequence of indices to text\n",
    "def decode_sequence(sequence):\n",
    "    decoded_words = [reverse_word_index.get(index-3, '') for index in sequence]\n",
    "    return ' '.join(decoded_words)\n",
    "\n",
    "# Example usage\n",
    "review_indices = x_test[2]\n",
    "review_text = decode_sequence(review_indices)\n",
    "\n",
    "print(\"Review Text:\", review_text)"
   ]
  },
  {
   "cell_type": "code",
   "execution_count": 21,
   "metadata": {},
   "outputs": [
    {
     "name": "stdout",
     "output_type": "stream",
     "text": [
      "  7/782 [..............................] - ETA: 7s  "
     ]
    },
    {
     "name": "stderr",
     "output_type": "stream",
     "text": [
      "2024-10-18 23:50:25.478299: I tensorflow/core/grappler/optimizers/custom_graph_optimizer_registry.cc:114] Plugin optimizer for device_type GPU is enabled.\n",
      "2024-10-18 23:50:25.535072: I tensorflow/core/grappler/optimizers/custom_graph_optimizer_registry.cc:114] Plugin optimizer for device_type GPU is enabled.\n"
     ]
    },
    {
     "name": "stdout",
     "output_type": "stream",
     "text": [
      "782/782 [==============================] - 8s 10ms/step\n",
      "Prediction: [0.2895967]\n",
      "Sentiment: Negative\n"
     ]
    }
   ],
   "source": [
    "prediction = model.predict(x_test)\n",
    "print(\"Prediction:\", prediction[2])\n",
    "if prediction[2] > 0.5: # Threshold\n",
    "    sentiment = \"Positive\"\n",
    "else:\n",
    "    sentiment = \"Negative\"\n",
    "print(\"Sentiment:\", sentiment)"
   ]
  }
 ],
 "metadata": {
  "kernelspec": {
   "display_name": "Python 3",
   "language": "python",
   "name": "python3"
  },
  "language_info": {
   "codemirror_mode": {
    "name": "ipython",
    "version": 3
   },
   "file_extension": ".py",
   "mimetype": "text/x-python",
   "name": "python",
   "nbconvert_exporter": "python",
   "pygments_lexer": "ipython3",
   "version": "3.11.4"
  },
  "orig_nbformat": 4
 },
 "nbformat": 4,
 "nbformat_minor": 2
}
