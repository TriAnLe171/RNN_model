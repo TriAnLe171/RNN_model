{
 "cells": [
  {
   "cell_type": "code",
   "execution_count": 1,
   "metadata": {},
   "outputs": [
    {
     "name": "stdout",
     "output_type": "stream",
     "text": [
      "Requirement already satisfied: scikit-learn in /Library/Frameworks/Python.framework/Versions/3.11/lib/python3.11/site-packages (1.2.2)\n",
      "Requirement already satisfied: numpy>=1.17.3 in /Library/Frameworks/Python.framework/Versions/3.11/lib/python3.11/site-packages (from scikit-learn) (1.24.3)\n",
      "Requirement already satisfied: scipy>=1.3.2 in /Library/Frameworks/Python.framework/Versions/3.11/lib/python3.11/site-packages (from scikit-learn) (1.10.1)\n",
      "Requirement already satisfied: joblib>=1.1.1 in /Library/Frameworks/Python.framework/Versions/3.11/lib/python3.11/site-packages (from scikit-learn) (1.2.0)\n",
      "Requirement already satisfied: threadpoolctl>=2.0.0 in /Library/Frameworks/Python.framework/Versions/3.11/lib/python3.11/site-packages (from scikit-learn) (3.1.0)\n",
      "\n",
      "\u001b[1m[\u001b[0m\u001b[34;49mnotice\u001b[0m\u001b[1;39;49m]\u001b[0m\u001b[39;49m A new release of pip is available: \u001b[0m\u001b[31;49m23.1.2\u001b[0m\u001b[39;49m -> \u001b[0m\u001b[32;49m24.2\u001b[0m\n",
      "\u001b[1m[\u001b[0m\u001b[34;49mnotice\u001b[0m\u001b[1;39;49m]\u001b[0m\u001b[39;49m To update, run: \u001b[0m\u001b[32;49mpip3 install --upgrade pip\u001b[0m\n"
     ]
    }
   ],
   "source": [
    "!pip3 install scikit-learn"
   ]
  },
  {
   "cell_type": "code",
   "execution_count": 2,
   "metadata": {},
   "outputs": [],
   "source": [
    "import numpy as np\n",
    "from keras.models import Sequential\n",
    "from keras.layers import Dense, SimpleRNN"
   ]
  },
  {
   "cell_type": "code",
   "execution_count": 3,
   "metadata": {},
   "outputs": [],
   "source": [
    "def create_RNN(hidden_units, dense_units,input_shape,activation):\n",
    "    model=Sequential()\n",
    "    model.add(SimpleRNN(hidden_units,input_shape=input_shape,\n",
    "                        activation=activation[0]))\n",
    "    model.add(Dense(units=dense_units,activation=activation[1]))\n",
    "    model.compile(loss='mean_squared_error',optimizer='adam')\n",
    "    return model"
   ]
  },
  {
   "cell_type": "code",
   "execution_count": 4,
   "metadata": {},
   "outputs": [
    {
     "name": "stderr",
     "output_type": "stream",
     "text": [
      "2024-10-18 17:08:55.915765: I metal_plugin/src/device/metal_device.cc:1154] Metal device set to: Apple M1 Pro\n",
      "2024-10-18 17:08:55.915798: I metal_plugin/src/device/metal_device.cc:296] systemMemory: 16.00 GB\n",
      "2024-10-18 17:08:55.915806: I metal_plugin/src/device/metal_device.cc:313] maxCacheSize: 5.33 GB\n",
      "2024-10-18 17:08:55.915902: I tensorflow/core/common_runtime/pluggable_device/pluggable_device_factory.cc:303] Could not identify NUMA node of platform GPU ID 0, defaulting to 0. Your kernel may not have been built with NUMA support.\n",
      "2024-10-18 17:08:55.916129: I tensorflow/core/common_runtime/pluggable_device/pluggable_device_factory.cc:269] Created TensorFlow device (/job:localhost/replica:0/task:0/device:GPU:0 with 0 MB memory) -> physical PluggableDevice (device: 0, name: METAL, pci bus id: <undefined>)\n"
     ]
    }
   ],
   "source": [
    "demo_model=create_RNN(2,1,(3,1), activation=['linear','linear'])"
   ]
  },
  {
   "cell_type": "code",
   "execution_count": 5,
   "metadata": {},
   "outputs": [
    {
     "name": "stdout",
     "output_type": "stream",
     "text": [
      "wx =  [[ 1.0020539  -0.85722405]]  wh =  [[ 0.15252113  0.9883002 ]\n",
      " [-0.9883002   0.15252113]]  bh =  [0. 0.]  wy = [[-0.9457783 ]\n",
      " [ 0.94149315]] by =  [0.]\n"
     ]
    }
   ],
   "source": [
    "wx= demo_model.get_weights()[0] #weights of input\n",
    "wh= demo_model.get_weights()[1] #weights of hidden layers\n",
    "bh= demo_model.get_weights()[2] #bias of hidden layers\n",
    "wy= demo_model.get_weights()[3] #weights for dense layers\n",
    "by= demo_model.get_weights()[4] #bias for dense layers\n",
    "\n",
    "print('wx = ', wx, ' wh = ', wh, ' bh = ', bh, ' wy =', wy, 'by = ', by)"
   ]
  },
  {
   "cell_type": "code",
   "execution_count": 6,
   "metadata": {},
   "outputs": [
    {
     "name": "stderr",
     "output_type": "stream",
     "text": [
      "2024-10-18 17:08:56.360187: I tensorflow/core/grappler/optimizers/custom_graph_optimizer_registry.cc:114] Plugin optimizer for device_type GPU is enabled.\n"
     ]
    },
    {
     "name": "stdout",
     "output_type": "stream",
     "text": [
      "1/1 [==============================] - 1s 622ms/step\n",
      "h1 = [[ 1.00205386 -0.85722405]] h2 = [[ 3.0041368  -0.85486285]] h3 [[4.30921705 0.26693223]]\n",
      "Prediction from network [[-3.8242493]]\n",
      "Prediction from out computation [[-3.82424915]]\n"
     ]
    }
   ],
   "source": [
    "x=np.array([1,2,3])\n",
    "# Reshape the input to the required sample_size x time_steps x features\n",
    "x_input=np.reshape(x,(1,3,1))\n",
    "y_pred_model = demo_model.predict(x_input)\n",
    "\n",
    "m=2 #hidden units\n",
    "h0= np.zeros(m) #h0 is initialized to 0\n",
    "h1=np.dot(x[0],wx) + h0 + bh\n",
    "h2=np.dot(x[1],wx) + np.dot(h1,wh) + bh\n",
    "h3=np.dot(x[2],wx) + np.dot(h2,wh) +bh\n",
    "o3=np.dot(h3,wy)+by\n",
    "\n",
    "print('h1 =', h1,'h2 =',h2,'h3',h3)\n",
    "print(\"Prediction from network\",y_pred_model)\n",
    "print(\"Prediction from out computation\", o3)"
   ]
  }
 ],
 "metadata": {
  "kernelspec": {
   "display_name": "Python 3",
   "language": "python",
   "name": "python3"
  },
  "language_info": {
   "codemirror_mode": {
    "name": "ipython",
    "version": 3
   },
   "file_extension": ".py",
   "mimetype": "text/x-python",
   "name": "python",
   "nbconvert_exporter": "python",
   "pygments_lexer": "ipython3",
   "version": "3.11.4"
  },
  "orig_nbformat": 4
 },
 "nbformat": 4,
 "nbformat_minor": 2
}
